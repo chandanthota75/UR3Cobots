{
 "cells": [
  {
   "cell_type": "markdown",
   "id": "bdd43ced-b66e-48e9-90b8-64d10c28881c",
   "metadata": {},
   "source": [
    "## Model Evaluation for 2nd Proactive Strategy"
   ]
  },
  {
   "cell_type": "code",
   "execution_count": 1,
   "id": "d3314782-d8d7-42e9-90e6-ac09e524d7e1",
   "metadata": {},
   "outputs": [],
   "source": [
    "# Importing necessary libraries for model evaluation\n",
    "import os\n",
    "import gc\n",
    "import utils\n",
    "import numpy as np\n",
    "import pandas as pd\n",
    "import csv\n",
    "from tabulate import tabulate\n",
    "from tensorflow.keras.models import load_model\n",
    "from sklearn.metrics import accuracy_score, precision_score, recall_score, f1_score, mean_squared_error, mean_absolute_error"
   ]
  },
  {
   "cell_type": "markdown",
   "id": "f5e56bb1-9949-4899-a6cf-58138c454db7",
   "metadata": {},
   "source": [
    "#### Loading the models and test sequences"
   ]
  },
  {
   "cell_type": "code",
   "execution_count": 2,
   "id": "cc8a4ee3-a8b3-4010-b5e1-fd8813309558",
   "metadata": {},
   "outputs": [
    {
     "name": "stdout",
     "output_type": "stream",
     "text": [
      "Model loaded from models/cj/model_cj.keras\n",
      "The model has an optimizer, indicating it has been trained.\n",
      "The model has 105158 parameters.\n",
      "\n",
      "\n",
      "Model loaded from models/sj/model_sj.keras\n",
      "The model has an optimizer, indicating it has been trained.\n",
      "The model has 105158 parameters.\n",
      "\n",
      "\n",
      "Model loaded from models/tj/model_tj.keras\n",
      "The model has an optimizer, indicating it has been trained.\n",
      "The model has 105158 parameters.\n"
     ]
    }
   ],
   "source": [
    "# Loading the models\n",
    "model_cj = utils.load_and_verify_model(\"models/cj/model_cj.keras\")\n",
    "print(\"\\n\")\n",
    "model_sj = utils.load_and_verify_model(\"models/sj/model_sj.keras\")\n",
    "print(\"\\n\")\n",
    "model_tj = utils.load_and_verify_model(\"models/tj/model_tj.keras\")"
   ]
  },
  {
   "cell_type": "code",
   "execution_count": 3,
   "id": "4690175a-44c9-451d-82c1-7a6cc2774624",
   "metadata": {},
   "outputs": [],
   "source": [
    "# Defining the paths\n",
    "base_path = \"data/processed\"\n",
    "datasets = [\"cj\", \"sj\", \"tj\"]"
   ]
  },
  {
   "cell_type": "code",
   "execution_count": 4,
   "id": "e88cd131-b9f4-47fe-8e4c-ae7d433dc53c",
   "metadata": {},
   "outputs": [
    {
     "name": "stdout",
     "output_type": "stream",
     "text": [
      "Loaded test data for cj: (869, 30, 35), (869, 6)\n",
      "Loaded test data for sj: (869, 30, 35), (869, 6)\n",
      "Loaded test data for tj: (869, 30, 35), (869, 6)\n"
     ]
    }
   ],
   "source": [
    "# Loading the test sequences\n",
    "loaded_data = {data: utils.load_sequences(base_path, data, \"test\") for data in datasets}\n",
    "(ted_cj, tel_cj) = loaded_data[\"cj\"]\n",
    "(ted_sj, tel_sj) = loaded_data[\"sj\"]\n",
    "(ted_tj, tel_tj) = loaded_data[\"tj\"]"
   ]
  },
  {
   "cell_type": "markdown",
   "id": "44ae1baa-3a61-4d62-8c47-fc266d5667e3",
   "metadata": {},
   "source": [
    "#### Model Evaluation and results"
   ]
  },
  {
   "cell_type": "code",
   "execution_count": 5,
   "id": "96da4531-8df4-45fc-9c91-e2d14af57efc",
   "metadata": {},
   "outputs": [
    {
     "name": "stdout",
     "output_type": "stream",
     "text": [
      "\u001b[1m28/28\u001b[0m \u001b[32m━━━━━━━━━━━━━━━━━━━━\u001b[0m\u001b[37m\u001b[0m \u001b[1m1s\u001b[0m 21ms/step  \n",
      "\u001b[1m28/28\u001b[0m \u001b[32m━━━━━━━━━━━━━━━━━━━━\u001b[0m\u001b[37m\u001b[0m \u001b[1m1s\u001b[0m 26ms/step  \n",
      "\u001b[1m28/28\u001b[0m \u001b[32m━━━━━━━━━━━━━━━━━━━━\u001b[0m\u001b[37m\u001b[0m \u001b[1m1s\u001b[0m 25ms/step  \n"
     ]
    }
   ],
   "source": [
    "# Predicting the test data on trained model\n",
    "predictions_cj = model_cj.predict(ted_cj)\n",
    "predictions_sj = model_sj.predict(ted_sj)\n",
    "predictions_tj = model_tj.predict(ted_tj)"
   ]
  },
  {
   "cell_type": "code",
   "execution_count": 6,
   "id": "887c1559-6318-4d5f-b833-2cdce0fdfe80",
   "metadata": {},
   "outputs": [
    {
     "name": "stdout",
     "output_type": "stream",
     "text": [
      "Predictions saved at results/cj/predictions_cj.csv\n",
      "Predictions saved at results/sj/predictions_sj.csv\n",
      "Predictions saved at results/tj/predictions_tj.csv\n"
     ]
    }
   ],
   "source": [
    "# Saving the predictions\n",
    "utils.save_predictions_to_csv(predictions_cj, \"results/cj/predictions_cj.csv\", target_names= [*[f'Current_J{i}' for i in range(6)]])\n",
    "utils.save_predictions_to_csv(predictions_sj, \"results/sj/predictions_sj.csv\", target_names= [*[f'Speed_J{i}' for i in range(6)]])\n",
    "utils.save_predictions_to_csv(predictions_tj, \"results/tj/predictions_tj.csv\", target_names= ['Temperature_T0', *[f'Temperature_J{i}' for i in range(1, 6)]])"
   ]
  },
  {
   "cell_type": "code",
   "execution_count": 7,
   "id": "663b9060-23a2-48d2-afc4-16cf98150f30",
   "metadata": {},
   "outputs": [
    {
     "name": "stdout",
     "output_type": "stream",
     "text": [
      "+----------+---------+\n",
      "| Metric   |   Value |\n",
      "+==========+=========+\n",
      "| MSE      |  0.1504 |\n",
      "+----------+---------+\n",
      "| RMSE     |  0.3878 |\n",
      "+----------+---------+\n",
      "| MAE      |  0.2398 |\n",
      "+----------+---------+\n",
      "| MAPE     |  3.1316 |\n",
      "+----------+---------+\n",
      "Metrics saved at results/cj/metrics_cj.csv\n"
     ]
    }
   ],
   "source": [
    "# Model Evaluation results of the multivariate time series forecasting [Regression]\n",
    "metrics_cj = utils.calculate_metrics(tel_cj, predictions_cj, \"regression\")\n",
    "utils.display_metrics(metrics_cj, \"regression\")\n",
    "utils.save_metrics_to_csv(metrics_cj, 'results/cj/metrics_cj.csv', \"regression\")"
   ]
  },
  {
   "cell_type": "code",
   "execution_count": 8,
   "id": "b5b00697-e4c1-4f0c-84ee-7848673464bf",
   "metadata": {},
   "outputs": [
    {
     "name": "stdout",
     "output_type": "stream",
     "text": [
      "+----------+-------------+\n",
      "| Metric   |       Value |\n",
      "+==========+=============+\n",
      "| MSE      | 0.0177      |\n",
      "+----------+-------------+\n",
      "| RMSE     | 0.1329      |\n",
      "+----------+-------------+\n",
      "| MAE      | 0.0709      |\n",
      "+----------+-------------+\n",
      "| MAPE     | 1.99297e+08 |\n",
      "+----------+-------------+\n",
      "Metrics saved at results/sj/metrics_sj.csv\n"
     ]
    }
   ],
   "source": [
    "# Model Evaluation results of the multivariate time series forecasting [Regression]\n",
    "metrics_sj = utils.calculate_metrics(tel_sj, predictions_sj, \"regression\")\n",
    "utils.display_metrics(metrics_sj, \"regression\")\n",
    "utils.save_metrics_to_csv(metrics_sj, 'results/sj/metrics_sj.csv', \"regression\")"
   ]
  },
  {
   "cell_type": "code",
   "execution_count": 9,
   "id": "a87401ef-8a9a-4845-a71d-e343fd240215",
   "metadata": {},
   "outputs": [
    {
     "name": "stdout",
     "output_type": "stream",
     "text": [
      "+----------+---------+\n",
      "| Metric   |   Value |\n",
      "+==========+=========+\n",
      "| MSE      |  0.0416 |\n",
      "+----------+---------+\n",
      "| RMSE     |  0.2039 |\n",
      "+----------+---------+\n",
      "| MAE      |  0.1701 |\n",
      "+----------+---------+\n",
      "| MAPE     |  0.0042 |\n",
      "+----------+---------+\n",
      "Metrics saved at results/tj/metrics_tj.csv\n"
     ]
    }
   ],
   "source": [
    "# Model Evaluation results of the multivariate time series forecasting [Regression]\n",
    "metrics_tj = utils.calculate_metrics(tel_tj, predictions_tj, \"regression\")\n",
    "utils.display_metrics(metrics_tj, \"regression\")\n",
    "utils.save_metrics_to_csv(metrics_tj, 'results/tj/metrics_tj.csv', \"regression\")"
   ]
  },
  {
   "cell_type": "code",
   "execution_count": 10,
   "id": "b5623080-cb98-4f1a-a879-9cb31becd24e",
   "metadata": {},
   "outputs": [
    {
     "data": {
      "text/plain": [
       "987"
      ]
     },
     "execution_count": 10,
     "metadata": {},
     "output_type": "execute_result"
    }
   ],
   "source": [
    "# Freeing up memory\n",
    "gc.collect()"
   ]
  }
 ],
 "metadata": {
  "kernelspec": {
   "display_name": "Python 3 (ipykernel)",
   "language": "python",
   "name": "python3"
  },
  "language_info": {
   "codemirror_mode": {
    "name": "ipython",
    "version": 3
   },
   "file_extension": ".py",
   "mimetype": "text/x-python",
   "name": "python",
   "nbconvert_exporter": "python",
   "pygments_lexer": "ipython3",
   "version": "3.11.7"
  }
 },
 "nbformat": 4,
 "nbformat_minor": 5
}
